{
 "cells": [
  {
   "cell_type": "code",
   "execution_count": 2,
   "metadata": {
    "id": "K1F-oY4BI45P"
   },
   "outputs": [],
   "source": [
    "import pandas as pd\n",
    "import numpy as np"
   ]
  },
  {
   "cell_type": "markdown",
   "metadata": {
    "id": "BzrLQRRGTdu1"
   },
   "source": [
    "# Loading the dataset"
   ]
  },
  {
   "cell_type": "code",
   "execution_count": 4,
   "metadata": {
    "id": "bc3UPU7AKzKG"
   },
   "outputs": [
    {
     "name": "stderr",
     "output_type": "stream",
     "text": [
      "<>:1: SyntaxWarning: invalid escape sequence '\\T'\n",
      "<>:1: SyntaxWarning: invalid escape sequence '\\T'\n",
      "C:\\Users\\fatim\\AppData\\Local\\Temp\\ipykernel_16748\\991363388.py:1: SyntaxWarning: invalid escape sequence '\\T'\n",
      "  df=pd.read_csv('Datasets\\Titanic-Dataset.csv')\n"
     ]
    }
   ],
   "source": [
    "df=pd.read_csv('Datasets\\Titanic-Dataset.csv')"
   ]
  },
  {
   "cell_type": "markdown",
   "metadata": {
    "id": "0OFnt7E-Tkgb"
   },
   "source": [
    "# Handling Null Values"
   ]
  },
  {
   "cell_type": "code",
   "execution_count": 5,
   "metadata": {
    "id": "tCRLPInPK3ro"
   },
   "outputs": [
    {
     "data": {
      "text/plain": [
       "PassengerId      0\n",
       "Survived         0\n",
       "Pclass           0\n",
       "Name             0\n",
       "Sex              0\n",
       "Age            177\n",
       "SibSp            0\n",
       "Parch            0\n",
       "Ticket           0\n",
       "Fare             0\n",
       "Cabin          687\n",
       "Embarked         2\n",
       "dtype: int64"
      ]
     },
     "execution_count": 5,
     "metadata": {},
     "output_type": "execute_result"
    }
   ],
   "source": [
    "# Check for null values (1 line)\n",
    "df.isnull().sum()"
   ]
  },
  {
   "cell_type": "code",
   "execution_count": 6,
   "metadata": {},
   "outputs": [
    {
     "name": "stderr",
     "output_type": "stream",
     "text": [
      "C:\\Users\\fatim\\AppData\\Local\\Temp\\ipykernel_16748\\411264125.py:2: FutureWarning: A value is trying to be set on a copy of a DataFrame or Series through chained assignment using an inplace method.\n",
      "The behavior will change in pandas 3.0. This inplace method will never work because the intermediate object on which we are setting values always behaves as a copy.\n",
      "\n",
      "For example, when doing 'df[col].method(value, inplace=True)', try using 'df.method({col: value}, inplace=True)' or df[col] = df[col].method(value) instead, to perform the operation inplace on the original object.\n",
      "\n",
      "\n",
      "  df['Embarked'].fillna(df['Embarked'].mode()[0], inplace=True)\n"
     ]
    }
   ],
   "source": [
    "# Fill null values for 'Embarked' with the mode(1 line)\n",
    "df['Embarked'].fillna(df['Embarked'].mode()[0], inplace=True)\n"
   ]
  },
  {
   "cell_type": "code",
   "execution_count": 7,
   "metadata": {},
   "outputs": [],
   "source": [
    "# Drop columnss with null values in 'Cabin' (or alternatively, you can fill it with a placeholder) (1 line)\n",
    "df.dropna(subset=['Cabin'], inplace=True)\n"
   ]
  },
  {
   "cell_type": "markdown",
   "metadata": {
    "id": "ymFhv83FV80H"
   },
   "source": [
    "# Handling Duplicates"
   ]
  },
  {
   "cell_type": "code",
   "execution_count": 8,
   "metadata": {
    "colab": {
     "base_uri": "https://localhost:8080/"
    },
    "id": "HzmNbIDuLmEw",
    "outputId": "cea11192-7d31-45d5-f536-5d8cd618e180"
   },
   "outputs": [
    {
     "data": {
      "text/plain": [
       "np.int64(0)"
      ]
     },
     "execution_count": 8,
     "metadata": {},
     "output_type": "execute_result"
    }
   ],
   "source": [
    "# Check for duplicates (1 line)\n",
    "df.duplicated().sum()"
   ]
  },
  {
   "cell_type": "code",
   "execution_count": 9,
   "metadata": {},
   "outputs": [],
   "source": [
    "# Drop duplicates if any (1 line)\n",
    "df.drop_duplicates(inplace=True)\n"
   ]
  },
  {
   "cell_type": "markdown",
   "metadata": {
    "id": "RkPW85MbV_8v"
   },
   "source": [
    "# Handling Outliers"
   ]
  },
  {
   "cell_type": "code",
   "execution_count": 10,
   "metadata": {
    "id": "NsffaZ2DL06B"
   },
   "outputs": [],
   "source": [
    "import numpy as np\n",
    "\n",
    "# Function to remove outliers using the IQR method\n",
    "def remove_outliers(df, column):\n",
    "    Q1 = df[column].quantile(0.25)\n",
    "    Q3 = df[column].quantile(0.75)\n",
    "    IQR = Q3 - Q1\n",
    "    lower_bound = Q1 - 1.5 * IQR\n",
    "    upper_bound = Q3 + 1.5 * IQR\n",
    "    return df[(df[column] >= lower_bound) & (df[column] <= upper_bound)]\n",
    "\n",
    "\n"
   ]
  },
  {
   "cell_type": "code",
   "execution_count": 11,
   "metadata": {},
   "outputs": [],
   "source": [
    "# Remove outliers from 'Fare' using the remove_outilers function (1 line)\n",
    "\n",
    "df = remove_outliers(df, 'Fare')\n"
   ]
  },
  {
   "cell_type": "markdown",
   "metadata": {
    "id": "kOTEDjprUiwc"
   },
   "source": [
    "# Scaling and Normalization"
   ]
  },
  {
   "cell_type": "code",
   "execution_count": 13,
   "metadata": {},
   "outputs": [
    {
     "name": "stdout",
     "output_type": "stream",
     "text": [
      "Defaulting to user installation because normal site-packages is not writeable\n",
      "Collecting scikit-learn\n",
      "  Downloading scikit_learn-1.6.1-cp312-cp312-win_amd64.whl.metadata (15 kB)\n",
      "Requirement already satisfied: numpy>=1.19.5 in c:\\users\\fatim\\appdata\\local\\packages\\pythonsoftwarefoundation.python.3.12_qbz5n2kfra8p0\\localcache\\local-packages\\python312\\site-packages (from scikit-learn) (2.2.4)\n",
      "Collecting scipy>=1.6.0 (from scikit-learn)\n",
      "  Downloading scipy-1.15.2-cp312-cp312-win_amd64.whl.metadata (60 kB)\n",
      "Collecting joblib>=1.2.0 (from scikit-learn)\n",
      "  Downloading joblib-1.4.2-py3-none-any.whl.metadata (5.4 kB)\n",
      "Collecting threadpoolctl>=3.1.0 (from scikit-learn)\n",
      "  Downloading threadpoolctl-3.6.0-py3-none-any.whl.metadata (13 kB)\n",
      "Downloading scikit_learn-1.6.1-cp312-cp312-win_amd64.whl (11.1 MB)\n",
      "   ---------------------------------------- 0.0/11.1 MB ? eta -:--:--\n",
      "   ---------------------------------------- 0.0/11.1 MB ? eta -:--:--\n",
      "   ---------------------------------------- 0.0/11.1 MB ? eta -:--:--\n",
      "    --------------------------------------- 0.3/11.1 MB ? eta -:--:--\n",
      "    --------------------------------------- 0.3/11.1 MB ? eta -:--:--\n",
      "   - -------------------------------------- 0.5/11.1 MB 730.2 kB/s eta 0:00:15\n",
      "   -- ------------------------------------- 0.8/11.1 MB 817.9 kB/s eta 0:00:13\n",
      "   --- ------------------------------------ 1.0/11.1 MB 915.5 kB/s eta 0:00:11\n",
      "   --- ------------------------------------ 1.0/11.1 MB 915.5 kB/s eta 0:00:11\n",
      "   ---- ----------------------------------- 1.3/11.1 MB 849.7 kB/s eta 0:00:12\n",
      "   ----- ---------------------------------- 1.6/11.1 MB 932.2 kB/s eta 0:00:11\n",
      "   ------- -------------------------------- 2.1/11.1 MB 1.1 MB/s eta 0:00:09\n",
      "   -------- ------------------------------- 2.4/11.1 MB 1.1 MB/s eta 0:00:08\n",
      "   --------- ------------------------------ 2.6/11.1 MB 1.2 MB/s eta 0:00:08\n",
      "   ----------- ---------------------------- 3.1/11.1 MB 1.2 MB/s eta 0:00:07\n",
      "   ----------- ---------------------------- 3.1/11.1 MB 1.2 MB/s eta 0:00:07\n",
      "   ------------ --------------------------- 3.4/11.1 MB 1.2 MB/s eta 0:00:07\n",
      "   ------------ --------------------------- 3.4/11.1 MB 1.2 MB/s eta 0:00:07\n",
      "   ------------- -------------------------- 3.7/11.1 MB 1.1 MB/s eta 0:00:07\n",
      "   ------------- -------------------------- 3.7/11.1 MB 1.1 MB/s eta 0:00:07\n",
      "   -------------- ------------------------- 3.9/11.1 MB 1.1 MB/s eta 0:00:07\n",
      "   --------------- ------------------------ 4.2/11.1 MB 1.1 MB/s eta 0:00:07\n",
      "   --------------- ------------------------ 4.2/11.1 MB 1.1 MB/s eta 0:00:07\n",
      "   ---------------- ----------------------- 4.5/11.1 MB 1.0 MB/s eta 0:00:07\n",
      "   ----------------- ---------------------- 5.0/11.1 MB 1.1 MB/s eta 0:00:06\n",
      "   ------------------ --------------------- 5.2/11.1 MB 1.1 MB/s eta 0:00:06\n",
      "   ------------------- -------------------- 5.5/11.1 MB 1.1 MB/s eta 0:00:06\n",
      "   -------------------- ------------------- 5.8/11.1 MB 1.1 MB/s eta 0:00:05\n",
      "   --------------------- ------------------ 6.0/11.1 MB 1.1 MB/s eta 0:00:05\n",
      "   ---------------------- ----------------- 6.3/11.1 MB 1.1 MB/s eta 0:00:05\n",
      "   ---------------------- ----------------- 6.3/11.1 MB 1.1 MB/s eta 0:00:05\n",
      "   ----------------------- ---------------- 6.6/11.1 MB 1.1 MB/s eta 0:00:05\n",
      "   ------------------------ --------------- 6.8/11.1 MB 1.1 MB/s eta 0:00:04\n",
      "   ------------------------ --------------- 6.8/11.1 MB 1.1 MB/s eta 0:00:04\n",
      "   ------------------------ --------------- 6.8/11.1 MB 1.1 MB/s eta 0:00:04\n",
      "   -------------------------- ------------- 7.3/11.1 MB 1.1 MB/s eta 0:00:04\n",
      "   --------------------------- ------------ 7.6/11.1 MB 1.1 MB/s eta 0:00:04\n",
      "   ----------------------------- ---------- 8.1/11.1 MB 1.1 MB/s eta 0:00:03\n",
      "   ------------------------------- -------- 8.7/11.1 MB 1.2 MB/s eta 0:00:03\n",
      "   -------------------------------- ------- 8.9/11.1 MB 1.2 MB/s eta 0:00:02\n",
      "   --------------------------------- ------ 9.2/11.1 MB 1.2 MB/s eta 0:00:02\n",
      "   --------------------------------- ------ 9.4/11.1 MB 1.2 MB/s eta 0:00:02\n",
      "   ---------------------------------- ----- 9.7/11.1 MB 1.2 MB/s eta 0:00:02\n",
      "   ------------------------------------ --- 10.2/11.1 MB 1.2 MB/s eta 0:00:01\n",
      "   -------------------------------------- - 10.7/11.1 MB 1.2 MB/s eta 0:00:01\n",
      "   ---------------------------------------- 11.1/11.1 MB 1.2 MB/s eta 0:00:00\n",
      "Downloading joblib-1.4.2-py3-none-any.whl (301 kB)\n",
      "Downloading scipy-1.15.2-cp312-cp312-win_amd64.whl (40.9 MB)\n",
      "   ---------------------------------------- 0.0/40.9 MB ? eta -:--:--\n",
      "   ---------------------------------------- 0.3/40.9 MB ? eta -:--:--\n",
      "   ---------------------------------------- 0.3/40.9 MB ? eta -:--:--\n",
      "    --------------------------------------- 0.8/40.9 MB 1.2 MB/s eta 0:00:33\n",
      "    --------------------------------------- 0.8/40.9 MB 1.2 MB/s eta 0:00:33\n",
      "    --------------------------------------- 0.8/40.9 MB 1.2 MB/s eta 0:00:33\n",
      "   - -------------------------------------- 1.3/40.9 MB 1.1 MB/s eta 0:00:36\n",
      "   - -------------------------------------- 1.6/40.9 MB 1.0 MB/s eta 0:00:38\n",
      "   -- ------------------------------------- 2.1/40.9 MB 1.2 MB/s eta 0:00:32\n",
      "   -- ------------------------------------- 2.1/40.9 MB 1.2 MB/s eta 0:00:32\n",
      "   -- ------------------------------------- 2.4/40.9 MB 1.2 MB/s eta 0:00:33\n",
      "   -- ------------------------------------- 2.4/40.9 MB 1.2 MB/s eta 0:00:33\n",
      "   -- ------------------------------------- 2.6/40.9 MB 1.1 MB/s eta 0:00:36\n",
      "   -- ------------------------------------- 2.9/40.9 MB 1.1 MB/s eta 0:00:36\n",
      "   --- ------------------------------------ 3.1/40.9 MB 1.1 MB/s eta 0:00:36\n",
      "   --- ------------------------------------ 3.4/40.9 MB 1.1 MB/s eta 0:00:36\n",
      "   --- ------------------------------------ 3.7/40.9 MB 1.1 MB/s eta 0:00:35\n",
      "   --- ------------------------------------ 3.9/40.9 MB 1.1 MB/s eta 0:00:34\n",
      "   --- ------------------------------------ 3.9/40.9 MB 1.1 MB/s eta 0:00:34\n",
      "   ---- ----------------------------------- 4.2/40.9 MB 1.1 MB/s eta 0:00:34\n",
      "   ---- ----------------------------------- 4.5/40.9 MB 1.1 MB/s eta 0:00:34\n",
      "   ---- ----------------------------------- 4.7/40.9 MB 1.1 MB/s eta 0:00:34\n",
      "   ---- ----------------------------------- 5.0/40.9 MB 1.1 MB/s eta 0:00:34\n",
      "   ---- ----------------------------------- 5.0/40.9 MB 1.1 MB/s eta 0:00:34\n",
      "   ----- ---------------------------------- 5.2/40.9 MB 1.1 MB/s eta 0:00:34\n",
      "   ----- ---------------------------------- 5.5/40.9 MB 1.1 MB/s eta 0:00:34\n",
      "   ----- ---------------------------------- 6.0/40.9 MB 1.1 MB/s eta 0:00:32\n",
      "   ----- ---------------------------------- 6.0/40.9 MB 1.1 MB/s eta 0:00:32\n",
      "   ------ --------------------------------- 6.3/40.9 MB 1.1 MB/s eta 0:00:32\n",
      "   ------ --------------------------------- 6.6/40.9 MB 1.1 MB/s eta 0:00:32\n",
      "   ------ --------------------------------- 6.8/40.9 MB 1.1 MB/s eta 0:00:32\n",
      "   ------ --------------------------------- 7.1/40.9 MB 1.1 MB/s eta 0:00:31\n",
      "   ------- -------------------------------- 7.3/40.9 MB 1.1 MB/s eta 0:00:31\n",
      "   ------- -------------------------------- 7.3/40.9 MB 1.1 MB/s eta 0:00:31\n",
      "   ------- -------------------------------- 7.9/40.9 MB 1.1 MB/s eta 0:00:30\n",
      "   ------- -------------------------------- 8.1/40.9 MB 1.1 MB/s eta 0:00:30\n",
      "   ------- -------------------------------- 8.1/40.9 MB 1.1 MB/s eta 0:00:30\n",
      "   -------- ------------------------------- 8.4/40.9 MB 1.1 MB/s eta 0:00:30\n",
      "   -------- ------------------------------- 8.4/40.9 MB 1.1 MB/s eta 0:00:30\n",
      "   -------- ------------------------------- 8.7/40.9 MB 1.1 MB/s eta 0:00:31\n",
      "   -------- ------------------------------- 8.9/40.9 MB 1.1 MB/s eta 0:00:30\n",
      "   -------- ------------------------------- 9.2/40.9 MB 1.1 MB/s eta 0:00:30\n",
      "   --------- ------------------------------ 9.4/40.9 MB 1.1 MB/s eta 0:00:30\n",
      "   --------- ------------------------------ 9.7/40.9 MB 1.1 MB/s eta 0:00:29\n",
      "   --------- ------------------------------ 10.0/40.9 MB 1.1 MB/s eta 0:00:29\n",
      "   --------- ------------------------------ 10.2/40.9 MB 1.1 MB/s eta 0:00:29\n",
      "   ---------- ----------------------------- 10.5/40.9 MB 1.1 MB/s eta 0:00:28\n",
      "   ---------- ----------------------------- 10.7/40.9 MB 1.1 MB/s eta 0:00:28\n",
      "   ---------- ----------------------------- 11.0/40.9 MB 1.1 MB/s eta 0:00:28\n",
      "   ----------- ---------------------------- 11.3/40.9 MB 1.1 MB/s eta 0:00:27\n",
      "   ----------- ---------------------------- 11.5/40.9 MB 1.1 MB/s eta 0:00:27\n",
      "   ----------- ---------------------------- 11.5/40.9 MB 1.1 MB/s eta 0:00:27\n",
      "   ----------- ---------------------------- 11.8/40.9 MB 1.1 MB/s eta 0:00:27\n",
      "   ------------ --------------------------- 12.3/40.9 MB 1.1 MB/s eta 0:00:26\n",
      "   ------------ --------------------------- 12.6/40.9 MB 1.1 MB/s eta 0:00:26\n",
      "   ------------ --------------------------- 12.8/40.9 MB 1.1 MB/s eta 0:00:25\n",
      "   ------------- -------------------------- 13.4/40.9 MB 1.1 MB/s eta 0:00:25\n",
      "   ------------- -------------------------- 13.9/40.9 MB 1.2 MB/s eta 0:00:24\n",
      "   ------------- -------------------------- 14.2/40.9 MB 1.2 MB/s eta 0:00:23\n",
      "   -------------- ------------------------- 14.7/40.9 MB 1.2 MB/s eta 0:00:22\n",
      "   -------------- ------------------------- 14.9/40.9 MB 1.2 MB/s eta 0:00:22\n",
      "   -------------- ------------------------- 15.2/40.9 MB 1.2 MB/s eta 0:00:22\n",
      "   --------------- ------------------------ 15.7/40.9 MB 1.2 MB/s eta 0:00:21\n",
      "   --------------- ------------------------ 16.0/40.9 MB 1.2 MB/s eta 0:00:21\n",
      "   --------------- ------------------------ 16.3/40.9 MB 1.2 MB/s eta 0:00:21\n",
      "   ---------------- ----------------------- 16.5/40.9 MB 1.2 MB/s eta 0:00:20\n",
      "   ---------------- ----------------------- 17.0/40.9 MB 1.2 MB/s eta 0:00:20\n",
      "   ----------------- ---------------------- 17.6/40.9 MB 1.3 MB/s eta 0:00:19\n",
      "   ----------------- ---------------------- 17.8/40.9 MB 1.3 MB/s eta 0:00:19\n",
      "   ----------------- ---------------------- 18.4/40.9 MB 1.3 MB/s eta 0:00:18\n",
      "   ------------------ --------------------- 18.9/40.9 MB 1.3 MB/s eta 0:00:18\n",
      "   ------------------ --------------------- 19.4/40.9 MB 1.3 MB/s eta 0:00:17\n",
      "   ------------------- -------------------- 19.9/40.9 MB 1.3 MB/s eta 0:00:16\n",
      "   ------------------- -------------------- 20.2/40.9 MB 1.3 MB/s eta 0:00:16\n",
      "   -------------------- ------------------- 20.7/40.9 MB 1.3 MB/s eta 0:00:16\n",
      "   -------------------- ------------------- 21.0/40.9 MB 1.3 MB/s eta 0:00:15\n",
      "   --------------------- ------------------ 21.5/40.9 MB 1.4 MB/s eta 0:00:15\n",
      "   --------------------- ------------------ 22.0/40.9 MB 1.4 MB/s eta 0:00:14\n",
      "   --------------------- ------------------ 22.3/40.9 MB 1.4 MB/s eta 0:00:14\n",
      "   ---------------------- ----------------- 22.8/40.9 MB 1.4 MB/s eta 0:00:14\n",
      "   ---------------------- ----------------- 23.1/40.9 MB 1.4 MB/s eta 0:00:13\n",
      "   ----------------------- ---------------- 23.6/40.9 MB 1.4 MB/s eta 0:00:13\n",
      "   ----------------------- ---------------- 24.1/40.9 MB 1.4 MB/s eta 0:00:12\n",
      "   ------------------------ --------------- 24.6/40.9 MB 1.4 MB/s eta 0:00:12\n",
      "   ------------------------ --------------- 25.2/40.9 MB 1.4 MB/s eta 0:00:11\n",
      "   ------------------------- -------------- 25.7/40.9 MB 1.5 MB/s eta 0:00:11\n",
      "   ------------------------- -------------- 26.2/40.9 MB 1.5 MB/s eta 0:00:11\n",
      "   -------------------------- ------------- 26.7/40.9 MB 1.5 MB/s eta 0:00:10\n",
      "   -------------------------- ------------- 27.0/40.9 MB 1.5 MB/s eta 0:00:10\n",
      "   -------------------------- ------------- 27.5/40.9 MB 1.5 MB/s eta 0:00:09\n",
      "   --------------------------- ------------ 28.0/40.9 MB 1.5 MB/s eta 0:00:09\n",
      "   --------------------------- ------------ 28.6/40.9 MB 1.5 MB/s eta 0:00:09\n",
      "   ---------------------------- ----------- 29.1/40.9 MB 1.5 MB/s eta 0:00:08\n",
      "   ---------------------------- ----------- 29.6/40.9 MB 1.5 MB/s eta 0:00:08\n",
      "   ----------------------------- ---------- 29.9/40.9 MB 1.5 MB/s eta 0:00:08\n",
      "   ----------------------------- ---------- 30.4/40.9 MB 1.5 MB/s eta 0:00:07\n",
      "   ------------------------------ --------- 30.9/40.9 MB 1.6 MB/s eta 0:00:07\n",
      "   ------------------------------ --------- 31.5/40.9 MB 1.6 MB/s eta 0:00:07\n",
      "   ------------------------------- -------- 32.0/40.9 MB 1.6 MB/s eta 0:00:06\n",
      "   ------------------------------- -------- 32.2/40.9 MB 1.6 MB/s eta 0:00:06\n",
      "   -------------------------------- ------- 32.8/40.9 MB 1.6 MB/s eta 0:00:06\n",
      "   -------------------------------- ------- 33.3/40.9 MB 1.6 MB/s eta 0:00:05\n",
      "   --------------------------------- ------ 33.8/40.9 MB 1.6 MB/s eta 0:00:05\n",
      "   --------------------------------- ------ 34.3/40.9 MB 1.6 MB/s eta 0:00:05\n",
      "   ---------------------------------- ----- 34.9/40.9 MB 1.6 MB/s eta 0:00:04\n",
      "   ---------------------------------- ----- 35.1/40.9 MB 1.6 MB/s eta 0:00:04\n",
      "   ---------------------------------- ----- 35.7/40.9 MB 1.6 MB/s eta 0:00:04\n",
      "   ----------------------------------- ---- 36.2/40.9 MB 1.6 MB/s eta 0:00:03\n",
      "   ----------------------------------- ---- 36.7/40.9 MB 1.6 MB/s eta 0:00:03\n",
      "   ------------------------------------ --- 37.2/40.9 MB 1.6 MB/s eta 0:00:03\n",
      "   ------------------------------------ --- 37.5/40.9 MB 1.6 MB/s eta 0:00:03\n",
      "   ------------------------------------- -- 38.0/40.9 MB 1.6 MB/s eta 0:00:02\n",
      "   ------------------------------------- -- 38.5/40.9 MB 1.7 MB/s eta 0:00:02\n",
      "   -------------------------------------- - 39.1/40.9 MB 1.7 MB/s eta 0:00:02\n",
      "   -------------------------------------- - 39.6/40.9 MB 1.7 MB/s eta 0:00:01\n",
      "   ---------------------------------------  40.1/40.9 MB 1.7 MB/s eta 0:00:01\n",
      "   ---------------------------------------  40.6/40.9 MB 1.7 MB/s eta 0:00:01\n",
      "   ---------------------------------------  40.9/40.9 MB 1.7 MB/s eta 0:00:01\n",
      "   ---------------------------------------- 40.9/40.9 MB 1.7 MB/s eta 0:00:00\n",
      "Downloading threadpoolctl-3.6.0-py3-none-any.whl (18 kB)\n",
      "Installing collected packages: threadpoolctl, scipy, joblib, scikit-learn\n",
      "Successfully installed joblib-1.4.2 scikit-learn-1.6.1 scipy-1.15.2 threadpoolctl-3.6.0\n",
      "Note: you may need to restart the kernel to use updated packages.\n"
     ]
    },
    {
     "name": "stderr",
     "output_type": "stream",
     "text": [
      "\n",
      "[notice] A new release of pip is available: 25.0.1 -> 25.1\n",
      "[notice] To update, run: C:\\Users\\fatim\\AppData\\Local\\Microsoft\\WindowsApps\\PythonSoftwareFoundation.Python.3.12_qbz5n2kfra8p0\\python.exe -m pip install --upgrade pip\n"
     ]
    }
   ],
   "source": [
    "pip install scikit-learn"
   ]
  },
  {
   "cell_type": "code",
   "execution_count": 14,
   "metadata": {
    "id": "k3AaqNXcTaDR"
   },
   "outputs": [],
   "source": [
    "from sklearn.preprocessing import StandardScaler, MinMaxScaler\n",
    "\n",
    "# Standard scaling for 'Fare' (2 lines)\n",
    "scaler = StandardScaler()\n",
    "df['Fare'] = scaler.fit_transform(df[['Fare']])"
   ]
  },
  {
   "cell_type": "code",
   "execution_count": 15,
   "metadata": {},
   "outputs": [],
   "source": [
    "# Min-Max scaling for 'Age' (2 lines)\n",
    "scaler = MinMaxScaler()\n",
    "df['Age'] = scaler.fit_transform(df[['Age']])\n"
   ]
  },
  {
   "cell_type": "markdown",
   "metadata": {
    "id": "ETtUvmP3Uz1p"
   },
   "source": [
    "# Encoding Categorical Variables"
   ]
  },
  {
   "cell_type": "code",
   "execution_count": 16,
   "metadata": {
    "id": "OxjK9FbhU4oq"
   },
   "outputs": [],
   "source": [
    "# One-hot encoding for 'Embarked' and 'Sex' (1 line)\n",
    "df = pd.get_dummies(df, columns=['Embarked', 'Sex'], drop_first=True)"
   ]
  }
 ],
 "metadata": {
  "colab": {
   "provenance": []
  },
  "kernelspec": {
   "display_name": "Python 3",
   "name": "python3"
  },
  "language_info": {
   "codemirror_mode": {
    "name": "ipython",
    "version": 3
   },
   "file_extension": ".py",
   "mimetype": "text/x-python",
   "name": "python",
   "nbconvert_exporter": "python",
   "pygments_lexer": "ipython3",
   "version": "3.12.10"
  }
 },
 "nbformat": 4,
 "nbformat_minor": 0
}

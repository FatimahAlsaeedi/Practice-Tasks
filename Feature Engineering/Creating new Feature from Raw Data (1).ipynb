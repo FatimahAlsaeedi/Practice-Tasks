{
 "cells": [
  {
   "cell_type": "code",
   "execution_count": 1,
   "metadata": {
    "executionInfo": {
     "elapsed": 1181,
     "status": "ok",
     "timestamp": 1722271971217,
     "user": {
      "displayName": "Saliyah Alotaibi",
      "userId": "17351266725608172688"
     },
     "user_tz": -180
    },
    "id": "ALN8muwGewwG"
   },
   "outputs": [],
   "source": [
    "import pandas as pd"
   ]
  },
  {
   "cell_type": "markdown",
   "metadata": {
    "id": "4seWQhO8e3Gd"
   },
   "source": [
    "### **Let's see the Data set!**"
   ]
  },
  {
   "cell_type": "code",
   "execution_count": 10,
   "metadata": {
    "colab": {
     "base_uri": "https://localhost:8080/",
     "height": 423
    },
    "executionInfo": {
     "elapsed": 536,
     "status": "ok",
     "timestamp": 1722271971752,
     "user": {
      "displayName": "Saliyah Alotaibi",
      "userId": "17351266725608172688"
     },
     "user_tz": -180
    },
    "id": "M7r6Yzhee2IS",
    "outputId": "a1679f7a-01c5-4cd7-9a29-2a683a619c3d"
   },
   "outputs": [
    {
     "data": {
      "text/html": [
       "<div>\n",
       "<style scoped>\n",
       "    .dataframe tbody tr th:only-of-type {\n",
       "        vertical-align: middle;\n",
       "    }\n",
       "\n",
       "    .dataframe tbody tr th {\n",
       "        vertical-align: top;\n",
       "    }\n",
       "\n",
       "    .dataframe thead th {\n",
       "        text-align: right;\n",
       "    }\n",
       "</style>\n",
       "<table border=\"1\" class=\"dataframe\">\n",
       "  <thead>\n",
       "    <tr style=\"text-align: right;\">\n",
       "      <th></th>\n",
       "      <th>Gender</th>\n",
       "      <th>Height</th>\n",
       "      <th>Weight</th>\n",
       "      <th>Index</th>\n",
       "    </tr>\n",
       "  </thead>\n",
       "  <tbody>\n",
       "    <tr>\n",
       "      <th>0</th>\n",
       "      <td>Male</td>\n",
       "      <td>174</td>\n",
       "      <td>96</td>\n",
       "      <td>4</td>\n",
       "    </tr>\n",
       "    <tr>\n",
       "      <th>1</th>\n",
       "      <td>Male</td>\n",
       "      <td>189</td>\n",
       "      <td>87</td>\n",
       "      <td>2</td>\n",
       "    </tr>\n",
       "    <tr>\n",
       "      <th>2</th>\n",
       "      <td>Female</td>\n",
       "      <td>185</td>\n",
       "      <td>110</td>\n",
       "      <td>4</td>\n",
       "    </tr>\n",
       "    <tr>\n",
       "      <th>3</th>\n",
       "      <td>Female</td>\n",
       "      <td>195</td>\n",
       "      <td>104</td>\n",
       "      <td>3</td>\n",
       "    </tr>\n",
       "    <tr>\n",
       "      <th>4</th>\n",
       "      <td>Male</td>\n",
       "      <td>149</td>\n",
       "      <td>61</td>\n",
       "      <td>3</td>\n",
       "    </tr>\n",
       "    <tr>\n",
       "      <th>...</th>\n",
       "      <td>...</td>\n",
       "      <td>...</td>\n",
       "      <td>...</td>\n",
       "      <td>...</td>\n",
       "    </tr>\n",
       "    <tr>\n",
       "      <th>495</th>\n",
       "      <td>Female</td>\n",
       "      <td>150</td>\n",
       "      <td>153</td>\n",
       "      <td>5</td>\n",
       "    </tr>\n",
       "    <tr>\n",
       "      <th>496</th>\n",
       "      <td>Female</td>\n",
       "      <td>184</td>\n",
       "      <td>121</td>\n",
       "      <td>4</td>\n",
       "    </tr>\n",
       "    <tr>\n",
       "      <th>497</th>\n",
       "      <td>Female</td>\n",
       "      <td>141</td>\n",
       "      <td>136</td>\n",
       "      <td>5</td>\n",
       "    </tr>\n",
       "    <tr>\n",
       "      <th>498</th>\n",
       "      <td>Male</td>\n",
       "      <td>150</td>\n",
       "      <td>95</td>\n",
       "      <td>5</td>\n",
       "    </tr>\n",
       "    <tr>\n",
       "      <th>499</th>\n",
       "      <td>Male</td>\n",
       "      <td>173</td>\n",
       "      <td>131</td>\n",
       "      <td>5</td>\n",
       "    </tr>\n",
       "  </tbody>\n",
       "</table>\n",
       "<p>500 rows × 4 columns</p>\n",
       "</div>"
      ],
      "text/plain": [
       "     Gender  Height  Weight  Index\n",
       "0      Male     174      96      4\n",
       "1      Male     189      87      2\n",
       "2    Female     185     110      4\n",
       "3    Female     195     104      3\n",
       "4      Male     149      61      3\n",
       "..      ...     ...     ...    ...\n",
       "495  Female     150     153      5\n",
       "496  Female     184     121      4\n",
       "497  Female     141     136      5\n",
       "498    Male     150      95      5\n",
       "499    Male     173     131      5\n",
       "\n",
       "[500 rows x 4 columns]"
      ]
     },
     "execution_count": 10,
     "metadata": {},
     "output_type": "execute_result"
    }
   ],
   "source": [
    "df = pd.read_csv(\"Dataset\\\\500_Person_Gender_Height_Weight_Index (1).csv\")\n",
    "df"
   ]
  },
  {
   "cell_type": "markdown",
   "metadata": {
    "id": "vUyjVX2wfRXQ"
   },
   "source": [
    "This data set have 4 Coulmns Gender , height , weight and index.\n",
    "if we want to create a new feature , we should do some mathmatical opreation in the data set to create a new feature (new column)\n",
    "\n",
    "\n",
    "### **what about bmi? (عامود لحساب كتلة الجسم)**\n",
    "\n",
    "### **bmi = weight ÷ Height^2 (in meter)**\n",
    "the height in this data set not in meter\n",
    "so we need to convert it from CM to M\n",
    "to do this we need to create new coulmn :\n",
    "\n",
    "### **height / 100 **\n"
   ]
  },
  {
   "cell_type": "code",
   "execution_count": 11,
   "metadata": {
    "executionInfo": {
     "elapsed": 10,
     "status": "ok",
     "timestamp": 1722271971752,
     "user": {
      "displayName": "Saliyah Alotaibi",
      "userId": "17351266725608172688"
     },
     "user_tz": -180
    },
    "id": "YkwEFzS_fQCd"
   },
   "outputs": [],
   "source": [
    "df['Height_M'] = df['Height'] / 100"
   ]
  },
  {
   "cell_type": "markdown",
   "metadata": {
    "id": "ed8o0SHNilr3"
   },
   "source": [
    "### **Let's see what we got!**"
   ]
  },
  {
   "cell_type": "code",
   "execution_count": 12,
   "metadata": {
    "colab": {
     "base_uri": "https://localhost:8080/",
     "height": 206
    },
    "executionInfo": {
     "elapsed": 11,
     "status": "ok",
     "timestamp": 1722271971753,
     "user": {
      "displayName": "Saliyah Alotaibi",
      "userId": "17351266725608172688"
     },
     "user_tz": -180
    },
    "id": "GX-Z1TUZip3N",
    "outputId": "90d48de4-e5ef-4ff9-b6f8-ab0290b681ef"
   },
   "outputs": [
    {
     "data": {
      "text/html": [
       "<div>\n",
       "<style scoped>\n",
       "    .dataframe tbody tr th:only-of-type {\n",
       "        vertical-align: middle;\n",
       "    }\n",
       "\n",
       "    .dataframe tbody tr th {\n",
       "        vertical-align: top;\n",
       "    }\n",
       "\n",
       "    .dataframe thead th {\n",
       "        text-align: right;\n",
       "    }\n",
       "</style>\n",
       "<table border=\"1\" class=\"dataframe\">\n",
       "  <thead>\n",
       "    <tr style=\"text-align: right;\">\n",
       "      <th></th>\n",
       "      <th>Gender</th>\n",
       "      <th>Height</th>\n",
       "      <th>Weight</th>\n",
       "      <th>Index</th>\n",
       "      <th>Height_M</th>\n",
       "    </tr>\n",
       "  </thead>\n",
       "  <tbody>\n",
       "    <tr>\n",
       "      <th>0</th>\n",
       "      <td>Male</td>\n",
       "      <td>174</td>\n",
       "      <td>96</td>\n",
       "      <td>4</td>\n",
       "      <td>1.74</td>\n",
       "    </tr>\n",
       "    <tr>\n",
       "      <th>1</th>\n",
       "      <td>Male</td>\n",
       "      <td>189</td>\n",
       "      <td>87</td>\n",
       "      <td>2</td>\n",
       "      <td>1.89</td>\n",
       "    </tr>\n",
       "    <tr>\n",
       "      <th>2</th>\n",
       "      <td>Female</td>\n",
       "      <td>185</td>\n",
       "      <td>110</td>\n",
       "      <td>4</td>\n",
       "      <td>1.85</td>\n",
       "    </tr>\n",
       "    <tr>\n",
       "      <th>3</th>\n",
       "      <td>Female</td>\n",
       "      <td>195</td>\n",
       "      <td>104</td>\n",
       "      <td>3</td>\n",
       "      <td>1.95</td>\n",
       "    </tr>\n",
       "    <tr>\n",
       "      <th>4</th>\n",
       "      <td>Male</td>\n",
       "      <td>149</td>\n",
       "      <td>61</td>\n",
       "      <td>3</td>\n",
       "      <td>1.49</td>\n",
       "    </tr>\n",
       "  </tbody>\n",
       "</table>\n",
       "</div>"
      ],
      "text/plain": [
       "   Gender  Height  Weight  Index  Height_M\n",
       "0    Male     174      96      4      1.74\n",
       "1    Male     189      87      2      1.89\n",
       "2  Female     185     110      4      1.85\n",
       "3  Female     195     104      3      1.95\n",
       "4    Male     149      61      3      1.49"
      ]
     },
     "execution_count": 12,
     "metadata": {},
     "output_type": "execute_result"
    }
   ],
   "source": [
    "df.head()"
   ]
  },
  {
   "cell_type": "markdown",
   "metadata": {
    "id": "HqiFgTjwi0qA"
   },
   "source": [
    "Now we can create new feature from this dataset.\n",
    "as we mentioned before we want to caluclate bmi\n",
    "\n",
    "### **bmi = weight ÷ Height^2 (in meter)**\n"
   ]
  },
  {
   "cell_type": "code",
   "execution_count": 13,
   "metadata": {
    "executionInfo": {
     "elapsed": 10,
     "status": "ok",
     "timestamp": 1722271971753,
     "user": {
      "displayName": "Saliyah Alotaibi",
      "userId": "17351266725608172688"
     },
     "user_tz": -180
    },
    "id": "T4gyp_HnizQr"
   },
   "outputs": [],
   "source": [
    "df['BMI'] = df['Weight'] / (df['Height_M'] ** 2)"
   ]
  },
  {
   "cell_type": "markdown",
   "metadata": {
    "id": "hZZGKFGijL2g"
   },
   "source": [
    "### **Let's see what we got!!!**"
   ]
  },
  {
   "cell_type": "code",
   "execution_count": 14,
   "metadata": {
    "colab": {
     "base_uri": "https://localhost:8080/",
     "height": 206
    },
    "executionInfo": {
     "elapsed": 10,
     "status": "ok",
     "timestamp": 1722271971753,
     "user": {
      "displayName": "Saliyah Alotaibi",
      "userId": "17351266725608172688"
     },
     "user_tz": -180
    },
    "id": "eNxty4ImjMIC",
    "outputId": "30c2a3ce-35c9-4e92-965f-12fbd5b01586"
   },
   "outputs": [
    {
     "data": {
      "text/html": [
       "<div>\n",
       "<style scoped>\n",
       "    .dataframe tbody tr th:only-of-type {\n",
       "        vertical-align: middle;\n",
       "    }\n",
       "\n",
       "    .dataframe tbody tr th {\n",
       "        vertical-align: top;\n",
       "    }\n",
       "\n",
       "    .dataframe thead th {\n",
       "        text-align: right;\n",
       "    }\n",
       "</style>\n",
       "<table border=\"1\" class=\"dataframe\">\n",
       "  <thead>\n",
       "    <tr style=\"text-align: right;\">\n",
       "      <th></th>\n",
       "      <th>Gender</th>\n",
       "      <th>Height</th>\n",
       "      <th>Weight</th>\n",
       "      <th>Index</th>\n",
       "      <th>Height_M</th>\n",
       "      <th>BMI</th>\n",
       "    </tr>\n",
       "  </thead>\n",
       "  <tbody>\n",
       "    <tr>\n",
       "      <th>0</th>\n",
       "      <td>Male</td>\n",
       "      <td>174</td>\n",
       "      <td>96</td>\n",
       "      <td>4</td>\n",
       "      <td>1.74</td>\n",
       "      <td>31.708284</td>\n",
       "    </tr>\n",
       "    <tr>\n",
       "      <th>1</th>\n",
       "      <td>Male</td>\n",
       "      <td>189</td>\n",
       "      <td>87</td>\n",
       "      <td>2</td>\n",
       "      <td>1.89</td>\n",
       "      <td>24.355421</td>\n",
       "    </tr>\n",
       "    <tr>\n",
       "      <th>2</th>\n",
       "      <td>Female</td>\n",
       "      <td>185</td>\n",
       "      <td>110</td>\n",
       "      <td>4</td>\n",
       "      <td>1.85</td>\n",
       "      <td>32.140248</td>\n",
       "    </tr>\n",
       "    <tr>\n",
       "      <th>3</th>\n",
       "      <td>Female</td>\n",
       "      <td>195</td>\n",
       "      <td>104</td>\n",
       "      <td>3</td>\n",
       "      <td>1.95</td>\n",
       "      <td>27.350427</td>\n",
       "    </tr>\n",
       "    <tr>\n",
       "      <th>4</th>\n",
       "      <td>Male</td>\n",
       "      <td>149</td>\n",
       "      <td>61</td>\n",
       "      <td>3</td>\n",
       "      <td>1.49</td>\n",
       "      <td>27.476240</td>\n",
       "    </tr>\n",
       "  </tbody>\n",
       "</table>\n",
       "</div>"
      ],
      "text/plain": [
       "   Gender  Height  Weight  Index  Height_M        BMI\n",
       "0    Male     174      96      4      1.74  31.708284\n",
       "1    Male     189      87      2      1.89  24.355421\n",
       "2  Female     185     110      4      1.85  32.140248\n",
       "3  Female     195     104      3      1.95  27.350427\n",
       "4    Male     149      61      3      1.49  27.476240"
      ]
     },
     "execution_count": 14,
     "metadata": {},
     "output_type": "execute_result"
    }
   ],
   "source": [
    "df.head()"
   ]
  },
  {
   "cell_type": "code",
   "execution_count": 15,
   "metadata": {
    "colab": {
     "base_uri": "https://localhost:8080/",
     "height": 206
    },
    "executionInfo": {
     "elapsed": 9,
     "status": "ok",
     "timestamp": 1722271971753,
     "user": {
      "displayName": "Saliyah Alotaibi",
      "userId": "17351266725608172688"
     },
     "user_tz": -180
    },
    "id": "4P-RXGHWJrQS",
    "outputId": "65ae1f39-98d7-412b-9b26-83e93dfe5f18"
   },
   "outputs": [
    {
     "data": {
      "text/html": [
       "<div>\n",
       "<style scoped>\n",
       "    .dataframe tbody tr th:only-of-type {\n",
       "        vertical-align: middle;\n",
       "    }\n",
       "\n",
       "    .dataframe tbody tr th {\n",
       "        vertical-align: top;\n",
       "    }\n",
       "\n",
       "    .dataframe thead th {\n",
       "        text-align: right;\n",
       "    }\n",
       "</style>\n",
       "<table border=\"1\" class=\"dataframe\">\n",
       "  <thead>\n",
       "    <tr style=\"text-align: right;\">\n",
       "      <th></th>\n",
       "      <th>Gender</th>\n",
       "      <th>Height</th>\n",
       "      <th>Weight</th>\n",
       "      <th>Index</th>\n",
       "      <th>Height_M</th>\n",
       "      <th>BMI</th>\n",
       "      <th>is_overweight</th>\n",
       "    </tr>\n",
       "  </thead>\n",
       "  <tbody>\n",
       "    <tr>\n",
       "      <th>0</th>\n",
       "      <td>Male</td>\n",
       "      <td>174</td>\n",
       "      <td>96</td>\n",
       "      <td>4</td>\n",
       "      <td>1.74</td>\n",
       "      <td>31.708284</td>\n",
       "      <td>True</td>\n",
       "    </tr>\n",
       "    <tr>\n",
       "      <th>1</th>\n",
       "      <td>Male</td>\n",
       "      <td>189</td>\n",
       "      <td>87</td>\n",
       "      <td>2</td>\n",
       "      <td>1.89</td>\n",
       "      <td>24.355421</td>\n",
       "      <td>False</td>\n",
       "    </tr>\n",
       "    <tr>\n",
       "      <th>2</th>\n",
       "      <td>Female</td>\n",
       "      <td>185</td>\n",
       "      <td>110</td>\n",
       "      <td>4</td>\n",
       "      <td>1.85</td>\n",
       "      <td>32.140248</td>\n",
       "      <td>True</td>\n",
       "    </tr>\n",
       "    <tr>\n",
       "      <th>3</th>\n",
       "      <td>Female</td>\n",
       "      <td>195</td>\n",
       "      <td>104</td>\n",
       "      <td>3</td>\n",
       "      <td>1.95</td>\n",
       "      <td>27.350427</td>\n",
       "      <td>True</td>\n",
       "    </tr>\n",
       "    <tr>\n",
       "      <th>4</th>\n",
       "      <td>Male</td>\n",
       "      <td>149</td>\n",
       "      <td>61</td>\n",
       "      <td>3</td>\n",
       "      <td>1.49</td>\n",
       "      <td>27.476240</td>\n",
       "      <td>True</td>\n",
       "    </tr>\n",
       "  </tbody>\n",
       "</table>\n",
       "</div>"
      ],
      "text/plain": [
       "   Gender  Height  Weight  Index  Height_M        BMI  is_overweight\n",
       "0    Male     174      96      4      1.74  31.708284           True\n",
       "1    Male     189      87      2      1.89  24.355421          False\n",
       "2  Female     185     110      4      1.85  32.140248           True\n",
       "3  Female     195     104      3      1.95  27.350427           True\n",
       "4    Male     149      61      3      1.49  27.476240           True"
      ]
     },
     "execution_count": 15,
     "metadata": {},
     "output_type": "execute_result"
    }
   ],
   "source": [
    "\n",
    "# Add a new column 'is_overweight'\n",
    "df['is_overweight'] = df['BMI'] > 25\n",
    "\n",
    "# Print the updated DataFrame\n",
    "df.head()\n",
    "\n"
   ]
  },
  {
   "cell_type": "code",
   "execution_count": 18,
   "metadata": {
    "colab": {
     "base_uri": "https://localhost:8080/",
     "height": 206
    },
    "executionInfo": {
     "elapsed": 9,
     "status": "ok",
     "timestamp": 1722271971753,
     "user": {
      "displayName": "Saliyah Alotaibi",
      "userId": "17351266725608172688"
     },
     "user_tz": -180
    },
    "id": "okJXjtN0J_e3",
    "outputId": "08ac4a89-acb8-4a91-f46b-1dba0c9d9a77"
   },
   "outputs": [
    {
     "data": {
      "text/html": [
       "<div>\n",
       "<style scoped>\n",
       "    .dataframe tbody tr th:only-of-type {\n",
       "        vertical-align: middle;\n",
       "    }\n",
       "\n",
       "    .dataframe tbody tr th {\n",
       "        vertical-align: top;\n",
       "    }\n",
       "\n",
       "    .dataframe thead th {\n",
       "        text-align: right;\n",
       "    }\n",
       "</style>\n",
       "<table border=\"1\" class=\"dataframe\">\n",
       "  <thead>\n",
       "    <tr style=\"text-align: right;\">\n",
       "      <th></th>\n",
       "      <th>Gender</th>\n",
       "      <th>Height</th>\n",
       "      <th>Weight</th>\n",
       "      <th>Index</th>\n",
       "      <th>Height_M</th>\n",
       "      <th>BMI</th>\n",
       "      <th>is_overweight</th>\n",
       "      <th>BMI_Category</th>\n",
       "    </tr>\n",
       "  </thead>\n",
       "  <tbody>\n",
       "    <tr>\n",
       "      <th>0</th>\n",
       "      <td>Male</td>\n",
       "      <td>174</td>\n",
       "      <td>96</td>\n",
       "      <td>4</td>\n",
       "      <td>1.74</td>\n",
       "      <td>31.708284</td>\n",
       "      <td>True</td>\n",
       "      <td>السمنة من الدرجة الأولى</td>\n",
       "    </tr>\n",
       "    <tr>\n",
       "      <th>1</th>\n",
       "      <td>Male</td>\n",
       "      <td>189</td>\n",
       "      <td>87</td>\n",
       "      <td>2</td>\n",
       "      <td>1.89</td>\n",
       "      <td>24.355421</td>\n",
       "      <td>False</td>\n",
       "      <td>الوزن الطبيعي</td>\n",
       "    </tr>\n",
       "    <tr>\n",
       "      <th>2</th>\n",
       "      <td>Female</td>\n",
       "      <td>185</td>\n",
       "      <td>110</td>\n",
       "      <td>4</td>\n",
       "      <td>1.85</td>\n",
       "      <td>32.140248</td>\n",
       "      <td>True</td>\n",
       "      <td>السمنة من الدرجة الأولى</td>\n",
       "    </tr>\n",
       "    <tr>\n",
       "      <th>3</th>\n",
       "      <td>Female</td>\n",
       "      <td>195</td>\n",
       "      <td>104</td>\n",
       "      <td>3</td>\n",
       "      <td>1.95</td>\n",
       "      <td>27.350427</td>\n",
       "      <td>True</td>\n",
       "      <td>زيادة الوزن</td>\n",
       "    </tr>\n",
       "    <tr>\n",
       "      <th>4</th>\n",
       "      <td>Male</td>\n",
       "      <td>149</td>\n",
       "      <td>61</td>\n",
       "      <td>3</td>\n",
       "      <td>1.49</td>\n",
       "      <td>27.476240</td>\n",
       "      <td>True</td>\n",
       "      <td>زيادة الوزن</td>\n",
       "    </tr>\n",
       "  </tbody>\n",
       "</table>\n",
       "</div>"
      ],
      "text/plain": [
       "   Gender  Height  Weight  Index  Height_M        BMI  is_overweight  \\\n",
       "0    Male     174      96      4      1.74  31.708284           True   \n",
       "1    Male     189      87      2      1.89  24.355421          False   \n",
       "2  Female     185     110      4      1.85  32.140248           True   \n",
       "3  Female     195     104      3      1.95  27.350427           True   \n",
       "4    Male     149      61      3      1.49  27.476240           True   \n",
       "\n",
       "              BMI_Category  \n",
       "0  السمنة من الدرجة الأولى  \n",
       "1            الوزن الطبيعي  \n",
       "2  السمنة من الدرجة الأولى  \n",
       "3              زيادة الوزن  \n",
       "4              زيادة الوزن  "
      ]
     },
     "execution_count": 18,
     "metadata": {},
     "output_type": "execute_result"
    }
   ],
   "source": [
    "\n",
    "def categorize_bmi(bmi):\n",
    "  if bmi < 18.5:\n",
    "    return 'نقص الوزن'\n",
    "  elif 18.5 <= bmi < 25:\n",
    "    return 'الوزن الطبيعي'\n",
    "  elif 25 <= bmi < 30:\n",
    "    return 'زيادة الوزن'\n",
    "  elif 30 <= bmi < 35:\n",
    "    return 'السمنة من الدرجة الأولى'\n",
    "  elif 35 <= bmi < 40:\n",
    "    return 'السمنة من الدرجة الثانية'\n",
    "  else:\n",
    "    return 'السمنة المفرطة (الدرجة الثالثة)'\n",
    "\n",
    "df['BMI_Category'] = df['BMI'].apply(categorize_bmi)\n",
    "df.head()\n"
   ]
  },
  {
   "cell_type": "code",
   "execution_count": 19,
   "metadata": {
    "colab": {
     "base_uri": "https://localhost:8080/",
     "height": 206
    },
    "executionInfo": {
     "elapsed": 8,
     "status": "ok",
     "timestamp": 1722271971753,
     "user": {
      "displayName": "Saliyah Alotaibi",
      "userId": "17351266725608172688"
     },
     "user_tz": -180
    },
    "id": "0s5fgaSKK2Yt",
    "outputId": "013058db-13b0-4467-a00d-f38340005331"
   },
   "outputs": [
    {
     "data": {
      "text/html": [
       "<div>\n",
       "<style scoped>\n",
       "    .dataframe tbody tr th:only-of-type {\n",
       "        vertical-align: middle;\n",
       "    }\n",
       "\n",
       "    .dataframe tbody tr th {\n",
       "        vertical-align: top;\n",
       "    }\n",
       "\n",
       "    .dataframe thead th {\n",
       "        text-align: right;\n",
       "    }\n",
       "</style>\n",
       "<table border=\"1\" class=\"dataframe\">\n",
       "  <thead>\n",
       "    <tr style=\"text-align: right;\">\n",
       "      <th></th>\n",
       "      <th>Gender</th>\n",
       "      <th>Height</th>\n",
       "      <th>Weight</th>\n",
       "      <th>Index</th>\n",
       "      <th>Height_M</th>\n",
       "      <th>BMI</th>\n",
       "      <th>is_overweight</th>\n",
       "      <th>BMI_Category</th>\n",
       "    </tr>\n",
       "  </thead>\n",
       "  <tbody>\n",
       "    <tr>\n",
       "      <th>0</th>\n",
       "      <td>Male</td>\n",
       "      <td>174</td>\n",
       "      <td>96</td>\n",
       "      <td>4</td>\n",
       "      <td>1.74</td>\n",
       "      <td>31.708284</td>\n",
       "      <td>True</td>\n",
       "      <td>السمنة من الدرجة الأولى</td>\n",
       "    </tr>\n",
       "    <tr>\n",
       "      <th>1</th>\n",
       "      <td>Male</td>\n",
       "      <td>189</td>\n",
       "      <td>87</td>\n",
       "      <td>2</td>\n",
       "      <td>1.89</td>\n",
       "      <td>24.355421</td>\n",
       "      <td>False</td>\n",
       "      <td>الوزن الطبيعي</td>\n",
       "    </tr>\n",
       "    <tr>\n",
       "      <th>2</th>\n",
       "      <td>Female</td>\n",
       "      <td>185</td>\n",
       "      <td>110</td>\n",
       "      <td>4</td>\n",
       "      <td>1.85</td>\n",
       "      <td>32.140248</td>\n",
       "      <td>True</td>\n",
       "      <td>السمنة من الدرجة الأولى</td>\n",
       "    </tr>\n",
       "    <tr>\n",
       "      <th>3</th>\n",
       "      <td>Female</td>\n",
       "      <td>195</td>\n",
       "      <td>104</td>\n",
       "      <td>3</td>\n",
       "      <td>1.95</td>\n",
       "      <td>27.350427</td>\n",
       "      <td>True</td>\n",
       "      <td>زيادة الوزن</td>\n",
       "    </tr>\n",
       "    <tr>\n",
       "      <th>4</th>\n",
       "      <td>Male</td>\n",
       "      <td>149</td>\n",
       "      <td>61</td>\n",
       "      <td>3</td>\n",
       "      <td>1.49</td>\n",
       "      <td>27.476240</td>\n",
       "      <td>True</td>\n",
       "      <td>زيادة الوزن</td>\n",
       "    </tr>\n",
       "  </tbody>\n",
       "</table>\n",
       "</div>"
      ],
      "text/plain": [
       "   Gender  Height  Weight  Index  Height_M        BMI  is_overweight  \\\n",
       "0    Male     174      96      4      1.74  31.708284           True   \n",
       "1    Male     189      87      2      1.89  24.355421          False   \n",
       "2  Female     185     110      4      1.85  32.140248           True   \n",
       "3  Female     195     104      3      1.95  27.350427           True   \n",
       "4    Male     149      61      3      1.49  27.476240           True   \n",
       "\n",
       "              BMI_Category  \n",
       "0  السمنة من الدرجة الأولى  \n",
       "1            الوزن الطبيعي  \n",
       "2  السمنة من الدرجة الأولى  \n",
       "3              زيادة الوزن  \n",
       "4              زيادة الوزن  "
      ]
     },
     "execution_count": 19,
     "metadata": {},
     "output_type": "execute_result"
    }
   ],
   "source": [
    "df['BMI_Category'] = [categorize_bmi(bmi) for bmi in df['BMI']]\n",
    "df.head()"
   ]
  },
  {
   "cell_type": "markdown",
   "metadata": {
    "id": "Q17AkIXhjUBg"
   },
   "source": [
    "### **Well done , you just created new feature from Raw Data. :) **"
   ]
  }
 ],
 "metadata": {
  "colab": {
   "provenance": [
    {
     "file_id": "1fOFZQQ4e-sb2EPg5Ksq78kzwQOKe6CTC",
     "timestamp": 1720373784462
    }
   ]
  },
  "kernelspec": {
   "display_name": "Python 3",
   "name": "python3"
  },
  "language_info": {
   "codemirror_mode": {
    "name": "ipython",
    "version": 3
   },
   "file_extension": ".py",
   "mimetype": "text/x-python",
   "name": "python",
   "nbconvert_exporter": "python",
   "pygments_lexer": "ipython3",
   "version": "3.12.10"
  }
 },
 "nbformat": 4,
 "nbformat_minor": 0
}
